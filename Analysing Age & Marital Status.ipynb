{
 "cells": [
  {
   "cell_type": "code",
   "execution_count": 1,
   "id": "1f3e80e8-d54e-446a-ab0c-8141d56caf96",
   "metadata": {},
   "outputs": [],
   "source": [
    "import pandas as pd"
   ]
  },
  {
   "cell_type": "code",
   "execution_count": 5,
   "id": "ce83e001-aae8-4267-97c6-7d4a095d039c",
   "metadata": {},
   "outputs": [],
   "source": [
    "df = pd.read_csv('BlackFriday.csv')\n",
    "\n",
    "del df['Product_Category_2']\n",
    "del df['Product_Category_3']"
   ]
  },
  {
   "cell_type": "code",
   "execution_count": 7,
   "id": "1cca90f3-a7d3-4870-9e8b-dad733b6febf",
   "metadata": {},
   "outputs": [
    {
     "data": {
      "text/html": [
       "<div>\n",
       "<style scoped>\n",
       "    .dataframe tbody tr th:only-of-type {\n",
       "        vertical-align: middle;\n",
       "    }\n",
       "\n",
       "    .dataframe tbody tr th {\n",
       "        vertical-align: top;\n",
       "    }\n",
       "\n",
       "    .dataframe thead th {\n",
       "        text-align: right;\n",
       "    }\n",
       "</style>\n",
       "<table border=\"1\" class=\"dataframe\">\n",
       "  <thead>\n",
       "    <tr style=\"text-align: right;\">\n",
       "      <th></th>\n",
       "      <th>User_ID</th>\n",
       "      <th>Product_ID</th>\n",
       "      <th>Gender</th>\n",
       "      <th>Age</th>\n",
       "      <th>Occupation</th>\n",
       "      <th>City_Category</th>\n",
       "      <th>Stay_In_Current_City_Years</th>\n",
       "      <th>Marital_Status</th>\n",
       "      <th>Product_Category_1</th>\n",
       "      <th>Purchase</th>\n",
       "    </tr>\n",
       "  </thead>\n",
       "  <tbody>\n",
       "    <tr>\n",
       "      <th>0</th>\n",
       "      <td>1000001</td>\n",
       "      <td>P00069042</td>\n",
       "      <td>F</td>\n",
       "      <td>0-17</td>\n",
       "      <td>10.0</td>\n",
       "      <td>A</td>\n",
       "      <td>2</td>\n",
       "      <td>0.0</td>\n",
       "      <td>3.0</td>\n",
       "      <td>8370.0</td>\n",
       "    </tr>\n",
       "    <tr>\n",
       "      <th>1</th>\n",
       "      <td>1000001</td>\n",
       "      <td>P00248942</td>\n",
       "      <td>F</td>\n",
       "      <td>0-17</td>\n",
       "      <td>10.0</td>\n",
       "      <td>A</td>\n",
       "      <td>2</td>\n",
       "      <td>0.0</td>\n",
       "      <td>1.0</td>\n",
       "      <td>15200.0</td>\n",
       "    </tr>\n",
       "    <tr>\n",
       "      <th>2</th>\n",
       "      <td>1000001</td>\n",
       "      <td>P00087842</td>\n",
       "      <td>F</td>\n",
       "      <td>0-17</td>\n",
       "      <td>10.0</td>\n",
       "      <td>A</td>\n",
       "      <td>2</td>\n",
       "      <td>0.0</td>\n",
       "      <td>12.0</td>\n",
       "      <td>1422.0</td>\n",
       "    </tr>\n",
       "    <tr>\n",
       "      <th>3</th>\n",
       "      <td>1000001</td>\n",
       "      <td>P00085442</td>\n",
       "      <td>F</td>\n",
       "      <td>0-17</td>\n",
       "      <td>10.0</td>\n",
       "      <td>A</td>\n",
       "      <td>2</td>\n",
       "      <td>0.0</td>\n",
       "      <td>12.0</td>\n",
       "      <td>1057.0</td>\n",
       "    </tr>\n",
       "    <tr>\n",
       "      <th>4</th>\n",
       "      <td>1000002</td>\n",
       "      <td>P00285442</td>\n",
       "      <td>M</td>\n",
       "      <td>55+</td>\n",
       "      <td>16.0</td>\n",
       "      <td>C</td>\n",
       "      <td>4+</td>\n",
       "      <td>0.0</td>\n",
       "      <td>8.0</td>\n",
       "      <td>7969.0</td>\n",
       "    </tr>\n",
       "    <tr>\n",
       "      <th>...</th>\n",
       "      <td>...</td>\n",
       "      <td>...</td>\n",
       "      <td>...</td>\n",
       "      <td>...</td>\n",
       "      <td>...</td>\n",
       "      <td>...</td>\n",
       "      <td>...</td>\n",
       "      <td>...</td>\n",
       "      <td>...</td>\n",
       "      <td>...</td>\n",
       "    </tr>\n",
       "    <tr>\n",
       "      <th>286686</th>\n",
       "      <td>1002095</td>\n",
       "      <td>P00240042</td>\n",
       "      <td>M</td>\n",
       "      <td>55+</td>\n",
       "      <td>13.0</td>\n",
       "      <td>C</td>\n",
       "      <td>1</td>\n",
       "      <td>1.0</td>\n",
       "      <td>5.0</td>\n",
       "      <td>5208.0</td>\n",
       "    </tr>\n",
       "    <tr>\n",
       "      <th>286687</th>\n",
       "      <td>1002095</td>\n",
       "      <td>P00252042</td>\n",
       "      <td>M</td>\n",
       "      <td>55+</td>\n",
       "      <td>13.0</td>\n",
       "      <td>C</td>\n",
       "      <td>1</td>\n",
       "      <td>1.0</td>\n",
       "      <td>5.0</td>\n",
       "      <td>7180.0</td>\n",
       "    </tr>\n",
       "    <tr>\n",
       "      <th>286688</th>\n",
       "      <td>1002096</td>\n",
       "      <td>P00233442</td>\n",
       "      <td>F</td>\n",
       "      <td>26-35</td>\n",
       "      <td>17.0</td>\n",
       "      <td>C</td>\n",
       "      <td>1</td>\n",
       "      <td>1.0</td>\n",
       "      <td>1.0</td>\n",
       "      <td>15789.0</td>\n",
       "    </tr>\n",
       "    <tr>\n",
       "      <th>286689</th>\n",
       "      <td>1002096</td>\n",
       "      <td>P00208342</td>\n",
       "      <td>F</td>\n",
       "      <td>26-35</td>\n",
       "      <td>17.0</td>\n",
       "      <td>C</td>\n",
       "      <td>1</td>\n",
       "      <td>1.0</td>\n",
       "      <td>1.0</td>\n",
       "      <td>19660.0</td>\n",
       "    </tr>\n",
       "    <tr>\n",
       "      <th>286690</th>\n",
       "      <td>1</td>\n",
       "      <td>NaN</td>\n",
       "      <td>NaN</td>\n",
       "      <td>NaN</td>\n",
       "      <td>NaN</td>\n",
       "      <td>NaN</td>\n",
       "      <td>NaN</td>\n",
       "      <td>NaN</td>\n",
       "      <td>NaN</td>\n",
       "      <td>NaN</td>\n",
       "    </tr>\n",
       "  </tbody>\n",
       "</table>\n",
       "<p>286691 rows × 10 columns</p>\n",
       "</div>"
      ],
      "text/plain": [
       "        User_ID Product_ID Gender    Age  Occupation City_Category  \\\n",
       "0       1000001  P00069042      F   0-17        10.0             A   \n",
       "1       1000001  P00248942      F   0-17        10.0             A   \n",
       "2       1000001  P00087842      F   0-17        10.0             A   \n",
       "3       1000001  P00085442      F   0-17        10.0             A   \n",
       "4       1000002  P00285442      M    55+        16.0             C   \n",
       "...         ...        ...    ...    ...         ...           ...   \n",
       "286686  1002095  P00240042      M    55+        13.0             C   \n",
       "286687  1002095  P00252042      M    55+        13.0             C   \n",
       "286688  1002096  P00233442      F  26-35        17.0             C   \n",
       "286689  1002096  P00208342      F  26-35        17.0             C   \n",
       "286690        1        NaN    NaN    NaN         NaN           NaN   \n",
       "\n",
       "       Stay_In_Current_City_Years  Marital_Status  Product_Category_1  \\\n",
       "0                               2             0.0                 3.0   \n",
       "1                               2             0.0                 1.0   \n",
       "2                               2             0.0                12.0   \n",
       "3                               2             0.0                12.0   \n",
       "4                              4+             0.0                 8.0   \n",
       "...                           ...             ...                 ...   \n",
       "286686                          1             1.0                 5.0   \n",
       "286687                          1             1.0                 5.0   \n",
       "286688                          1             1.0                 1.0   \n",
       "286689                          1             1.0                 1.0   \n",
       "286690                        NaN             NaN                 NaN   \n",
       "\n",
       "        Purchase  \n",
       "0         8370.0  \n",
       "1        15200.0  \n",
       "2         1422.0  \n",
       "3         1057.0  \n",
       "4         7969.0  \n",
       "...          ...  \n",
       "286686    5208.0  \n",
       "286687    7180.0  \n",
       "286688   15789.0  \n",
       "286689   19660.0  \n",
       "286690       NaN  \n",
       "\n",
       "[286691 rows x 10 columns]"
      ]
     },
     "execution_count": 7,
     "metadata": {},
     "output_type": "execute_result"
    }
   ],
   "source": [
    "df"
   ]
  },
  {
   "cell_type": "code",
   "execution_count": 9,
   "id": "10391f4e-cb3a-4fe3-ac5b-8d8f90f7d151",
   "metadata": {},
   "outputs": [],
   "source": [
    "df=df.dropna()"
   ]
  },
  {
   "cell_type": "code",
   "execution_count": 11,
   "id": "8d292489-068d-4dca-a18f-2162d0289d63",
   "metadata": {},
   "outputs": [
    {
     "data": {
      "text/html": [
       "<div>\n",
       "<style scoped>\n",
       "    .dataframe tbody tr th:only-of-type {\n",
       "        vertical-align: middle;\n",
       "    }\n",
       "\n",
       "    .dataframe tbody tr th {\n",
       "        vertical-align: top;\n",
       "    }\n",
       "\n",
       "    .dataframe thead th {\n",
       "        text-align: right;\n",
       "    }\n",
       "</style>\n",
       "<table border=\"1\" class=\"dataframe\">\n",
       "  <thead>\n",
       "    <tr style=\"text-align: right;\">\n",
       "      <th></th>\n",
       "      <th>User_ID</th>\n",
       "      <th>Product_ID</th>\n",
       "      <th>Gender</th>\n",
       "      <th>Age</th>\n",
       "      <th>Occupation</th>\n",
       "      <th>City_Category</th>\n",
       "      <th>Stay_In_Current_City_Years</th>\n",
       "      <th>Marital_Status</th>\n",
       "      <th>Product_Category_1</th>\n",
       "      <th>Purchase</th>\n",
       "    </tr>\n",
       "  </thead>\n",
       "  <tbody>\n",
       "    <tr>\n",
       "      <th>0</th>\n",
       "      <td>1000001</td>\n",
       "      <td>P00069042</td>\n",
       "      <td>F</td>\n",
       "      <td>0-17</td>\n",
       "      <td>10.0</td>\n",
       "      <td>A</td>\n",
       "      <td>2</td>\n",
       "      <td>0.0</td>\n",
       "      <td>3.0</td>\n",
       "      <td>8370.0</td>\n",
       "    </tr>\n",
       "    <tr>\n",
       "      <th>1</th>\n",
       "      <td>1000001</td>\n",
       "      <td>P00248942</td>\n",
       "      <td>F</td>\n",
       "      <td>0-17</td>\n",
       "      <td>10.0</td>\n",
       "      <td>A</td>\n",
       "      <td>2</td>\n",
       "      <td>0.0</td>\n",
       "      <td>1.0</td>\n",
       "      <td>15200.0</td>\n",
       "    </tr>\n",
       "    <tr>\n",
       "      <th>2</th>\n",
       "      <td>1000001</td>\n",
       "      <td>P00087842</td>\n",
       "      <td>F</td>\n",
       "      <td>0-17</td>\n",
       "      <td>10.0</td>\n",
       "      <td>A</td>\n",
       "      <td>2</td>\n",
       "      <td>0.0</td>\n",
       "      <td>12.0</td>\n",
       "      <td>1422.0</td>\n",
       "    </tr>\n",
       "    <tr>\n",
       "      <th>3</th>\n",
       "      <td>1000001</td>\n",
       "      <td>P00085442</td>\n",
       "      <td>F</td>\n",
       "      <td>0-17</td>\n",
       "      <td>10.0</td>\n",
       "      <td>A</td>\n",
       "      <td>2</td>\n",
       "      <td>0.0</td>\n",
       "      <td>12.0</td>\n",
       "      <td>1057.0</td>\n",
       "    </tr>\n",
       "    <tr>\n",
       "      <th>4</th>\n",
       "      <td>1000002</td>\n",
       "      <td>P00285442</td>\n",
       "      <td>M</td>\n",
       "      <td>55+</td>\n",
       "      <td>16.0</td>\n",
       "      <td>C</td>\n",
       "      <td>4+</td>\n",
       "      <td>0.0</td>\n",
       "      <td>8.0</td>\n",
       "      <td>7969.0</td>\n",
       "    </tr>\n",
       "  </tbody>\n",
       "</table>\n",
       "</div>"
      ],
      "text/plain": [
       "   User_ID Product_ID Gender   Age  Occupation City_Category  \\\n",
       "0  1000001  P00069042      F  0-17        10.0             A   \n",
       "1  1000001  P00248942      F  0-17        10.0             A   \n",
       "2  1000001  P00087842      F  0-17        10.0             A   \n",
       "3  1000001  P00085442      F  0-17        10.0             A   \n",
       "4  1000002  P00285442      M   55+        16.0             C   \n",
       "\n",
       "  Stay_In_Current_City_Years  Marital_Status  Product_Category_1  Purchase  \n",
       "0                          2             0.0                 3.0    8370.0  \n",
       "1                          2             0.0                 1.0   15200.0  \n",
       "2                          2             0.0                12.0    1422.0  \n",
       "3                          2             0.0                12.0    1057.0  \n",
       "4                         4+             0.0                 8.0    7969.0  "
      ]
     },
     "execution_count": 11,
     "metadata": {},
     "output_type": "execute_result"
    }
   ],
   "source": [
    "df.head()"
   ]
  },
  {
   "cell_type": "code",
   "execution_count": 13,
   "id": "bdd34646-0927-4f11-aaa4-37046a6a8b0e",
   "metadata": {},
   "outputs": [
    {
     "data": {
      "text/plain": [
       "<Axes: title={'center': 'Purchase Distribution by Age'}, xlabel='Age'>"
      ]
     },
     "execution_count": 13,
     "metadata": {},
     "output_type": "execute_result"
    },
    {
     "data": {
      "image/png": "[encoded data removed]",
      "text/plain": [
       "<Figure size 1200x600 with 1 Axes>"
      ]
     },
     "metadata": {},
     "output_type": "display_data"
    }
   ],
   "source": [
    "df.groupby('Age').size().plot(kind = 'bar', figsize = (12, 6), title = 'Purchase Distribution by Age')"
   ]
  },
  {
   "cell_type": "code",
   "execution_count": 15,
   "id": "ec90895b-0e33-4528-a4a5-d9b64108de27",
   "metadata": {},
   "outputs": [],
   "source": [
    "lst = []\n",
    "for i in df['Age'].unique():\n",
    "    lst.append([i, df[df['Age'] == i]['Product_ID'].nunique()])\n",
    "    \n",
    "data = pd.DataFrame(lst , columns = ['Age','Products'])"
   ]
  },
  {
   "cell_type": "code",
   "execution_count": 85,
   "id": "84ebdebd-4c97-4005-8a67-f3f5517a818e",
   "metadata": {},
   "outputs": [
    {
     "data": {
      "text/plain": [
       "1939"
      ]
     },
     "execution_count": 85,
     "metadata": {},
     "output_type": "execute_result"
    }
   ],
   "source": [
    "len(df[df['Age']=='0-17']['Product_ID'].unique())"
   ]
  },
  {
   "cell_type": "code",
   "execution_count": 91,
   "id": "74ceeb41-f733-46d6-9289-5dc618204de8",
   "metadata": {},
   "outputs": [],
   "source": [
    "lst2=[]\n",
    "for i in df['Age'].unique():\n",
    "    lst2.append([i,len(df[df['Age']==i]['Product_ID'].unique())])\n"
   ]
  },
  {
   "cell_type": "code",
   "execution_count": 93,
   "id": "a43d3cae-5535-4eae-b545-ef67db40ab15",
   "metadata": {},
   "outputs": [
    {
     "data": {
      "text/plain": [
       "[['0-17', 1939],\n",
       " ['55+', 2192],\n",
       " ['26-35', 3303],\n",
       " ['46-50', 2832],\n",
       " ['51-55', 2568],\n",
       " ['36-45', 3126],\n",
       " ['18-25', 2953]]"
      ]
     },
     "execution_count": 93,
     "metadata": {},
     "output_type": "execute_result"
    }
   ],
   "source": [
    "lst2"
   ]
  },
  {
   "cell_type": "code",
   "execution_count": 59,
   "id": "946238ff-8a31-4b6d-af50-0ae5fde6570d",
   "metadata": {},
   "outputs": [
    {
     "data": {
      "text/html": [
       "<div>\n",
       "<style scoped>\n",
       "    .dataframe tbody tr th:only-of-type {\n",
       "        vertical-align: middle;\n",
       "    }\n",
       "\n",
       "    .dataframe tbody tr th {\n",
       "        vertical-align: top;\n",
       "    }\n",
       "\n",
       "    .dataframe thead th {\n",
       "        text-align: right;\n",
       "    }\n",
       "</style>\n",
       "<table border=\"1\" class=\"dataframe\">\n",
       "  <thead>\n",
       "    <tr style=\"text-align: right;\">\n",
       "      <th></th>\n",
       "      <th>User_ID</th>\n",
       "      <th>Product_ID</th>\n",
       "      <th>Gender</th>\n",
       "      <th>Age</th>\n",
       "      <th>Occupation</th>\n",
       "      <th>City_Category</th>\n",
       "      <th>Stay_In_Current_City_Years</th>\n",
       "      <th>Marital_Status</th>\n",
       "      <th>Product_Category_1</th>\n",
       "      <th>Purchase</th>\n",
       "    </tr>\n",
       "  </thead>\n",
       "  <tbody>\n",
       "    <tr>\n",
       "      <th>0</th>\n",
       "      <td>1000001</td>\n",
       "      <td>P00069042</td>\n",
       "      <td>F</td>\n",
       "      <td>0-17</td>\n",
       "      <td>10.0</td>\n",
       "      <td>A</td>\n",
       "      <td>2</td>\n",
       "      <td>0.0</td>\n",
       "      <td>3.0</td>\n",
       "      <td>8370.0</td>\n",
       "    </tr>\n",
       "    <tr>\n",
       "      <th>1</th>\n",
       "      <td>1000001</td>\n",
       "      <td>P00248942</td>\n",
       "      <td>F</td>\n",
       "      <td>0-17</td>\n",
       "      <td>10.0</td>\n",
       "      <td>A</td>\n",
       "      <td>2</td>\n",
       "      <td>0.0</td>\n",
       "      <td>1.0</td>\n",
       "      <td>15200.0</td>\n",
       "    </tr>\n",
       "    <tr>\n",
       "      <th>2</th>\n",
       "      <td>1000001</td>\n",
       "      <td>P00087842</td>\n",
       "      <td>F</td>\n",
       "      <td>0-17</td>\n",
       "      <td>10.0</td>\n",
       "      <td>A</td>\n",
       "      <td>2</td>\n",
       "      <td>0.0</td>\n",
       "      <td>12.0</td>\n",
       "      <td>1422.0</td>\n",
       "    </tr>\n",
       "    <tr>\n",
       "      <th>3</th>\n",
       "      <td>1000001</td>\n",
       "      <td>P00085442</td>\n",
       "      <td>F</td>\n",
       "      <td>0-17</td>\n",
       "      <td>10.0</td>\n",
       "      <td>A</td>\n",
       "      <td>2</td>\n",
       "      <td>0.0</td>\n",
       "      <td>12.0</td>\n",
       "      <td>1057.0</td>\n",
       "    </tr>\n",
       "    <tr>\n",
       "      <th>85</th>\n",
       "      <td>1000019</td>\n",
       "      <td>P00112542</td>\n",
       "      <td>M</td>\n",
       "      <td>0-17</td>\n",
       "      <td>10.0</td>\n",
       "      <td>A</td>\n",
       "      <td>3</td>\n",
       "      <td>0.0</td>\n",
       "      <td>1.0</td>\n",
       "      <td>7746.0</td>\n",
       "    </tr>\n",
       "    <tr>\n",
       "      <th>...</th>\n",
       "      <td>...</td>\n",
       "      <td>...</td>\n",
       "      <td>...</td>\n",
       "      <td>...</td>\n",
       "      <td>...</td>\n",
       "      <td>...</td>\n",
       "      <td>...</td>\n",
       "      <td>...</td>\n",
       "      <td>...</td>\n",
       "      <td>...</td>\n",
       "    </tr>\n",
       "    <tr>\n",
       "      <th>286427</th>\n",
       "      <td>1002060</td>\n",
       "      <td>P00079742</td>\n",
       "      <td>M</td>\n",
       "      <td>0-17</td>\n",
       "      <td>1.0</td>\n",
       "      <td>C</td>\n",
       "      <td>3</td>\n",
       "      <td>0.0</td>\n",
       "      <td>1.0</td>\n",
       "      <td>3892.0</td>\n",
       "    </tr>\n",
       "    <tr>\n",
       "      <th>286428</th>\n",
       "      <td>1002060</td>\n",
       "      <td>P00040742</td>\n",
       "      <td>M</td>\n",
       "      <td>0-17</td>\n",
       "      <td>1.0</td>\n",
       "      <td>C</td>\n",
       "      <td>3</td>\n",
       "      <td>0.0</td>\n",
       "      <td>1.0</td>\n",
       "      <td>8277.0</td>\n",
       "    </tr>\n",
       "    <tr>\n",
       "      <th>286429</th>\n",
       "      <td>1002060</td>\n",
       "      <td>P00080342</td>\n",
       "      <td>M</td>\n",
       "      <td>0-17</td>\n",
       "      <td>1.0</td>\n",
       "      <td>C</td>\n",
       "      <td>3</td>\n",
       "      <td>0.0</td>\n",
       "      <td>1.0</td>\n",
       "      <td>11564.0</td>\n",
       "    </tr>\n",
       "    <tr>\n",
       "      <th>286579</th>\n",
       "      <td>1002079</td>\n",
       "      <td>P00296042</td>\n",
       "      <td>M</td>\n",
       "      <td>0-17</td>\n",
       "      <td>10.0</td>\n",
       "      <td>C</td>\n",
       "      <td>3</td>\n",
       "      <td>0.0</td>\n",
       "      <td>8.0</td>\n",
       "      <td>2295.0</td>\n",
       "    </tr>\n",
       "    <tr>\n",
       "      <th>286580</th>\n",
       "      <td>1002079</td>\n",
       "      <td>P00147742</td>\n",
       "      <td>M</td>\n",
       "      <td>0-17</td>\n",
       "      <td>10.0</td>\n",
       "      <td>C</td>\n",
       "      <td>3</td>\n",
       "      <td>0.0</td>\n",
       "      <td>1.0</td>\n",
       "      <td>15520.0</td>\n",
       "    </tr>\n",
       "  </tbody>\n",
       "</table>\n",
       "<p>7887 rows × 10 columns</p>\n",
       "</div>"
      ],
      "text/plain": [
       "        User_ID Product_ID Gender   Age  Occupation City_Category  \\\n",
       "0       1000001  P00069042      F  0-17        10.0             A   \n",
       "1       1000001  P00248942      F  0-17        10.0             A   \n",
       "2       1000001  P00087842      F  0-17        10.0             A   \n",
       "3       1000001  P00085442      F  0-17        10.0             A   \n",
       "85      1000019  P00112542      M  0-17        10.0             A   \n",
       "...         ...        ...    ...   ...         ...           ...   \n",
       "286427  1002060  P00079742      M  0-17         1.0             C   \n",
       "286428  1002060  P00040742      M  0-17         1.0             C   \n",
       "286429  1002060  P00080342      M  0-17         1.0             C   \n",
       "286579  1002079  P00296042      M  0-17        10.0             C   \n",
       "286580  1002079  P00147742      M  0-17        10.0             C   \n",
       "\n",
       "       Stay_In_Current_City_Years  Marital_Status  Product_Category_1  \\\n",
       "0                               2             0.0                 3.0   \n",
       "1                               2             0.0                 1.0   \n",
       "2                               2             0.0                12.0   \n",
       "3                               2             0.0                12.0   \n",
       "85                              3             0.0                 1.0   \n",
       "...                           ...             ...                 ...   \n",
       "286427                          3             0.0                 1.0   \n",
       "286428                          3             0.0                 1.0   \n",
       "286429                          3             0.0                 1.0   \n",
       "286579                          3             0.0                 8.0   \n",
       "286580                          3             0.0                 1.0   \n",
       "\n",
       "        Purchase  \n",
       "0         8370.0  \n",
       "1        15200.0  \n",
       "2         1422.0  \n",
       "3         1057.0  \n",
       "85        7746.0  \n",
       "...          ...  \n",
       "286427    3892.0  \n",
       "286428    8277.0  \n",
       "286429   11564.0  \n",
       "286579    2295.0  \n",
       "286580   15520.0  \n",
       "\n",
       "[7887 rows x 10 columns]"
      ]
     },
     "execution_count": 59,
     "metadata": {},
     "output_type": "execute_result"
    }
   ],
   "source": [
    "df[df['Age'] == '0-17']"
   ]
  },
  {
   "cell_type": "code",
   "execution_count": 61,
   "id": "eb650720-d398-4bbf-aeed-dbc439b7c522",
   "metadata": {},
   "outputs": [
    {
     "data": {
      "text/plain": [
       "1939"
      ]
     },
     "execution_count": 61,
     "metadata": {},
     "output_type": "execute_result"
    }
   ],
   "source": [
    "df[df['Age'] == '0-17']['Product_ID'].nunique()"
   ]
  },
  {
   "cell_type": "code",
   "execution_count": 21,
   "id": "82e29526-8fa5-4c84-bdec-b0946ac695ef",
   "metadata": {},
   "outputs": [
    {
     "data": {
      "text/plain": [
       "[['0-17', 1939],\n",
       " ['55+', 2192],\n",
       " ['26-35', 3303],\n",
       " ['46-50', 2832],\n",
       " ['51-55', 2568],\n",
       " ['36-45', 3126],\n",
       " ['18-25', 2953]]"
      ]
     },
     "execution_count": 21,
     "metadata": {},
     "output_type": "execute_result"
    }
   ],
   "source": [
    "lst"
   ]
  },
  {
   "cell_type": "code",
   "execution_count": 17,
   "id": "5f9438ed-77b8-4340-871a-d6c57c2adce7",
   "metadata": {},
   "outputs": [
    {
     "data": {
      "text/plain": [
       "<Axes: xlabel='Age'>"
      ]
     },
     "execution_count": 17,
     "metadata": {},
     "output_type": "execute_result"
    },
    {
     "data": {
      "image/png": "[encoded data removed]",
      "text/plain": [
       "<Figure size 800x600 with 1 Axes>"
      ]
     },
     "metadata": {},
     "output_type": "display_data"
    }
   ],
   "source": [
    "data.plot.bar(x = 'Age', figsize = (8,6))"
   ]
  },
  {
   "cell_type": "code",
   "execution_count": 19,
   "id": "c5900715-b670-42b5-bb5f-ce9d09ad155d",
   "metadata": {},
   "outputs": [
    {
     "data": {
      "text/plain": [
       "<Axes: title={'center': 'Amount Spend by Age'}, xlabel='Age'>"
      ]
     },
     "execution_count": 19,
     "metadata": {},
     "output_type": "execute_result"
    },
    {
     "data": {
      "image/png": "[encoded data removed]",
      "text/plain": [
       "<Figure size 1200x600 with 1 Axes>"
      ]
     },
     "metadata": {},
     "output_type": "display_data"
    }
   ],
   "source": [
    "df.groupby('Age').sum()['Purchase'].plot(kind = 'bar', figsize = (12, 6), title = 'Amount Spend by Age')"
   ]
  },
  {
   "cell_type": "code",
   "execution_count": 111,
   "id": "497dd4df-2ca4-45c9-950b-d6e0ccfb28d9",
   "metadata": {},
   "outputs": [
    {
     "name": "stdout",
     "output_type": "stream",
     "text": [
      "User_ID                         int64\n",
      "Product_ID                     object\n",
      "Gender                         object\n",
      "Age                            object\n",
      "Occupation                    float64\n",
      "City_Category                  object\n",
      "Stay_In_Current_City_Years     object\n",
      "Marital_Status                float64\n",
      "Product_Category_1            float64\n",
      "Purchase                        int64\n",
      "dtype: object\n"
     ]
    }
   ],
   "source": [
    "print(df.dtypes)\n"
   ]
  },
  {
   "cell_type": "code",
   "execution_count": 69,
   "id": "803110e6-e347-411d-b23e-9697038d2389",
   "metadata": {},
   "outputs": [
    {
     "data": {
      "text/plain": [
       "<Axes: >"
      ]
     },
     "execution_count": 69,
     "metadata": {},
     "output_type": "execute_result"
    },
    {
     "data": {
      "image/png": "[encoded data removed]",
      "text/plain": [
       "<Figure size 640x480 with 1 Axes>"
      ]
     },
     "metadata": {},
     "output_type": "display_data"
    }
   ],
   "source": [
    "df.groupby('Marital_Status').size().plot(kind = 'pie', autopct = '%0.1f')"
   ]
  },
  {
   "cell_type": "code",
   "execution_count": 71,
   "id": "ff5018fc-cd1b-4968-a849-ef594d2b29d8",
   "metadata": {},
   "outputs": [
    {
     "data": {
      "text/plain": [
       "<Axes: >"
      ]
     },
     "execution_count": 71,
     "metadata": {},
     "output_type": "execute_result"
    },
    {
     "data": {
      "image/png": "[encoded data removed]",
      "text/plain": [
       "<Figure size 640x480 with 1 Axes>"
      ]
     },
     "metadata": {},
     "output_type": "display_data"
    }
   ],
   "source": [
    "df.groupby('Gender').size().plot(kind = 'pie', autopct = '%0.1f')\n"
   ]
  },
  {
   "cell_type": "code",
   "execution_count": null,
   "id": "796a293f-7a7d-4754-8901-cc3c73f00dc9",
   "metadata": {},
   "outputs": [],
   "source": []
  }
 ],
 "metadata": {
  "kernelspec": {
   "display_name": "Python 3 (ipykernel)",
   "language": "python",
   "name": "python3"
  },
  "language_info": {
   "codemirror_mode": {
    "name": "ipython",
    "version": 3
   },
   "file_extension": ".py",
   "mimetype": "text/x-python",
   "name": "python",
   "nbconvert_exporter": "python",
   "pygments_lexer": "ipython3",
   "version": "3.12.4"
  }
 },
 "nbformat": 4,
 "nbformat_minor": 5
}
